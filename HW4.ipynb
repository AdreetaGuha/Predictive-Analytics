{
 "cells": [
  {
   "cell_type": "markdown",
   "metadata": {},
   "source": [
    "NAME: ADREETA GUHA USC ID:5122431956"
   ]
  },
  {
   "cell_type": "code",
   "execution_count": 240,
   "metadata": {},
   "outputs": [],
   "source": [
    "import numpy as np\n",
    "import pandas as pd\n",
    "import statsmodels.api as sm\n",
    "import statsmodels.formula.api as smf\n",
    "import matplotlib.pyplot as plt"
   ]
  },
  {
   "cell_type": "code",
   "execution_count": 241,
   "metadata": {},
   "outputs": [
    {
     "data": {
      "text/html": [
       "<div>\n",
       "<style scoped>\n",
       "    .dataframe tbody tr th:only-of-type {\n",
       "        vertical-align: middle;\n",
       "    }\n",
       "\n",
       "    .dataframe tbody tr th {\n",
       "        vertical-align: top;\n",
       "    }\n",
       "\n",
       "    .dataframe thead th {\n",
       "        text-align: right;\n",
       "    }\n",
       "</style>\n",
       "<table border=\"1\" class=\"dataframe\">\n",
       "  <thead>\n",
       "    <tr style=\"text-align: right;\">\n",
       "      <th></th>\n",
       "      <th>Month</th>\n",
       "      <th>Year</th>\n",
       "      <th>Store</th>\n",
       "      <th>County</th>\n",
       "    </tr>\n",
       "  </thead>\n",
       "  <tbody>\n",
       "    <tr>\n",
       "      <th>0</th>\n",
       "      <td>January</td>\n",
       "      <td>2012</td>\n",
       "      <td>NaN</td>\n",
       "      <td>NaN</td>\n",
       "    </tr>\n",
       "    <tr>\n",
       "      <th>1</th>\n",
       "      <td>February</td>\n",
       "      <td>2012</td>\n",
       "      <td>NaN</td>\n",
       "      <td>NaN</td>\n",
       "    </tr>\n",
       "    <tr>\n",
       "      <th>2</th>\n",
       "      <td>March</td>\n",
       "      <td>2012</td>\n",
       "      <td>NaN</td>\n",
       "      <td>NaN</td>\n",
       "    </tr>\n",
       "    <tr>\n",
       "      <th>3</th>\n",
       "      <td>April</td>\n",
       "      <td>2012</td>\n",
       "      <td>NaN</td>\n",
       "      <td>NaN</td>\n",
       "    </tr>\n",
       "    <tr>\n",
       "      <th>4</th>\n",
       "      <td>May</td>\n",
       "      <td>2012</td>\n",
       "      <td>NaN</td>\n",
       "      <td>NaN</td>\n",
       "    </tr>\n",
       "  </tbody>\n",
       "</table>\n",
       "</div>"
      ],
      "text/plain": [
       "      Month  Year  Store  County\n",
       "0   January  2012    NaN     NaN\n",
       "1  February  2012    NaN     NaN\n",
       "2     March  2012    NaN     NaN\n",
       "3     April  2012    NaN     NaN\n",
       "4       May  2012    NaN     NaN"
      ]
     },
     "execution_count": 241,
     "metadata": {},
     "output_type": "execute_result"
    }
   ],
   "source": [
    "df=pd.read_csv('hurricane.csv')\n",
    "df.head()"
   ]
  },
  {
   "cell_type": "markdown",
   "metadata": {},
   "source": [
    "Q1. (20 pts) Fit a regression model (Month as categorical, no interactions) to estimate the loss of\n",
    "regular sales (had there been no hurricane) for Carlson Department Store from Sep 2016 to Dec 2016. Plot actual and estimated store sales (in the same chart)."
   ]
  },
  {
   "cell_type": "code",
   "execution_count": 242,
   "metadata": {},
   "outputs": [
    {
     "data": {
      "text/plain": [
       "Intercept            -266.312500\n",
       "Month[T.August]         0.055000\n",
       "Month[T.December]       2.033333\n",
       "Month[T.February]      -0.297500\n",
       "Month[T.January]       -0.130000\n",
       "Month[T.July]          -0.010000\n",
       "Month[T.June]          -0.005000\n",
       "Month[T.March]          0.002500\n",
       "Month[T.May]            0.215000\n",
       "Month[T.November]       0.620833\n",
       "Month[T.October]        0.060833\n",
       "Month[T.September]     -0.256667\n",
       "Year                    0.133333\n",
       "dtype: float64"
      ]
     },
     "execution_count": 242,
     "metadata": {},
     "output_type": "execute_result"
    }
   ],
   "source": [
    "model1 = smf.ols(formula='Store ~ Year+Month',data = df).fit()\n",
    "df['Store_prediction'] = model1.predict(df)\n",
    "model1.params"
   ]
  },
  {
   "cell_type": "code",
   "execution_count": 243,
   "metadata": {},
   "outputs": [
    {
     "data": {
      "text/html": [
       "<table class=\"simpletable\">\n",
       "<caption>OLS Regression Results</caption>\n",
       "<tr>\n",
       "  <th>Dep. Variable:</th>          <td>Store</td>      <th>  R-squared:         </th> <td>   0.947</td>\n",
       "</tr>\n",
       "<tr>\n",
       "  <th>Model:</th>                   <td>OLS</td>       <th>  Adj. R-squared:    </th> <td>   0.929</td>\n",
       "</tr>\n",
       "<tr>\n",
       "  <th>Method:</th>             <td>Least Squares</td>  <th>  F-statistic:       </th> <td>   52.35</td>\n",
       "</tr>\n",
       "<tr>\n",
       "  <th>Date:</th>             <td>Thu, 30 Sep 2021</td> <th>  Prob (F-statistic):</th> <td>1.01e-18</td>\n",
       "</tr>\n",
       "<tr>\n",
       "  <th>Time:</th>                 <td>16:33:24</td>     <th>  Log-Likelihood:    </th> <td>  26.559</td>\n",
       "</tr>\n",
       "<tr>\n",
       "  <th>No. Observations:</th>      <td>    48</td>      <th>  AIC:               </th> <td>  -27.12</td>\n",
       "</tr>\n",
       "<tr>\n",
       "  <th>Df Residuals:</th>          <td>    35</td>      <th>  BIC:               </th> <td>  -2.792</td>\n",
       "</tr>\n",
       "<tr>\n",
       "  <th>Df Model:</th>              <td>    12</td>      <th>                     </th>     <td> </td>   \n",
       "</tr>\n",
       "<tr>\n",
       "  <th>Covariance Type:</th>      <td>nonrobust</td>    <th>                     </th>     <td> </td>   \n",
       "</tr>\n",
       "</table>\n",
       "<table class=\"simpletable\">\n",
       "<tr>\n",
       "           <td></td>             <th>coef</th>     <th>std err</th>      <th>t</th>      <th>P>|t|</th>  <th>[0.025</th>    <th>0.975]</th>  \n",
       "</tr>\n",
       "<tr>\n",
       "  <th>Intercept</th>          <td> -266.3125</td> <td>   42.378</td> <td>   -6.284</td> <td> 0.000</td> <td> -352.345</td> <td> -180.280</td>\n",
       "</tr>\n",
       "<tr>\n",
       "  <th>Month[T.August]</th>    <td>    0.0550</td> <td>    0.115</td> <td>    0.477</td> <td> 0.636</td> <td>   -0.179</td> <td>    0.289</td>\n",
       "</tr>\n",
       "<tr>\n",
       "  <th>Month[T.December]</th>  <td>    2.0333</td> <td>    0.117</td> <td>   17.360</td> <td> 0.000</td> <td>    1.796</td> <td>    2.271</td>\n",
       "</tr>\n",
       "<tr>\n",
       "  <th>Month[T.February]</th>  <td>   -0.2975</td> <td>    0.115</td> <td>   -2.582</td> <td> 0.014</td> <td>   -0.531</td> <td>   -0.064</td>\n",
       "</tr>\n",
       "<tr>\n",
       "  <th>Month[T.January]</th>   <td>   -0.1300</td> <td>    0.115</td> <td>   -1.128</td> <td> 0.267</td> <td>   -0.364</td> <td>    0.104</td>\n",
       "</tr>\n",
       "<tr>\n",
       "  <th>Month[T.July]</th>      <td>   -0.0100</td> <td>    0.115</td> <td>   -0.087</td> <td> 0.931</td> <td>   -0.244</td> <td>    0.224</td>\n",
       "</tr>\n",
       "<tr>\n",
       "  <th>Month[T.June]</th>      <td>   -0.0050</td> <td>    0.115</td> <td>   -0.043</td> <td> 0.966</td> <td>   -0.239</td> <td>    0.229</td>\n",
       "</tr>\n",
       "<tr>\n",
       "  <th>Month[T.March]</th>     <td>    0.0025</td> <td>    0.115</td> <td>    0.022</td> <td> 0.983</td> <td>   -0.231</td> <td>    0.236</td>\n",
       "</tr>\n",
       "<tr>\n",
       "  <th>Month[T.May]</th>       <td>    0.2150</td> <td>    0.115</td> <td>    1.866</td> <td> 0.070</td> <td>   -0.019</td> <td>    0.449</td>\n",
       "</tr>\n",
       "<tr>\n",
       "  <th>Month[T.November]</th>  <td>    0.6208</td> <td>    0.117</td> <td>    5.301</td> <td> 0.000</td> <td>    0.383</td> <td>    0.859</td>\n",
       "</tr>\n",
       "<tr>\n",
       "  <th>Month[T.October]</th>   <td>    0.0608</td> <td>    0.117</td> <td>    0.519</td> <td> 0.607</td> <td>   -0.177</td> <td>    0.299</td>\n",
       "</tr>\n",
       "<tr>\n",
       "  <th>Month[T.September]</th> <td>   -0.2567</td> <td>    0.117</td> <td>   -2.191</td> <td> 0.035</td> <td>   -0.494</td> <td>   -0.019</td>\n",
       "</tr>\n",
       "<tr>\n",
       "  <th>Year</th>               <td>    0.1333</td> <td>    0.021</td> <td>    6.338</td> <td> 0.000</td> <td>    0.091</td> <td>    0.176</td>\n",
       "</tr>\n",
       "</table>\n",
       "<table class=\"simpletable\">\n",
       "<tr>\n",
       "  <th>Omnibus:</th>       <td>13.803</td> <th>  Durbin-Watson:     </th> <td>   1.827</td>\n",
       "</tr>\n",
       "<tr>\n",
       "  <th>Prob(Omnibus):</th> <td> 0.001</td> <th>  Jarque-Bera (JB):  </th> <td>  18.633</td>\n",
       "</tr>\n",
       "<tr>\n",
       "  <th>Skew:</th>          <td>-0.930</td> <th>  Prob(JB):          </th> <td>8.99e-05</td>\n",
       "</tr>\n",
       "<tr>\n",
       "  <th>Kurtosis:</th>      <td> 5.419</td> <th>  Cond. No.          </th> <td>3.63e+06</td>\n",
       "</tr>\n",
       "</table><br/><br/>Warnings:<br/>[1] Standard Errors assume that the covariance matrix of the errors is correctly specified.<br/>[2] The condition number is large, 3.63e+06. This might indicate that there are<br/>strong multicollinearity or other numerical problems."
      ],
      "text/plain": [
       "<class 'statsmodels.iolib.summary.Summary'>\n",
       "\"\"\"\n",
       "                            OLS Regression Results                            \n",
       "==============================================================================\n",
       "Dep. Variable:                  Store   R-squared:                       0.947\n",
       "Model:                            OLS   Adj. R-squared:                  0.929\n",
       "Method:                 Least Squares   F-statistic:                     52.35\n",
       "Date:                Thu, 30 Sep 2021   Prob (F-statistic):           1.01e-18\n",
       "Time:                        16:33:24   Log-Likelihood:                 26.559\n",
       "No. Observations:                  48   AIC:                            -27.12\n",
       "Df Residuals:                      35   BIC:                            -2.792\n",
       "Df Model:                          12                                         \n",
       "Covariance Type:            nonrobust                                         \n",
       "======================================================================================\n",
       "                         coef    std err          t      P>|t|      [0.025      0.975]\n",
       "--------------------------------------------------------------------------------------\n",
       "Intercept           -266.3125     42.378     -6.284      0.000    -352.345    -180.280\n",
       "Month[T.August]        0.0550      0.115      0.477      0.636      -0.179       0.289\n",
       "Month[T.December]      2.0333      0.117     17.360      0.000       1.796       2.271\n",
       "Month[T.February]     -0.2975      0.115     -2.582      0.014      -0.531      -0.064\n",
       "Month[T.January]      -0.1300      0.115     -1.128      0.267      -0.364       0.104\n",
       "Month[T.July]         -0.0100      0.115     -0.087      0.931      -0.244       0.224\n",
       "Month[T.June]         -0.0050      0.115     -0.043      0.966      -0.239       0.229\n",
       "Month[T.March]         0.0025      0.115      0.022      0.983      -0.231       0.236\n",
       "Month[T.May]           0.2150      0.115      1.866      0.070      -0.019       0.449\n",
       "Month[T.November]      0.6208      0.117      5.301      0.000       0.383       0.859\n",
       "Month[T.October]       0.0608      0.117      0.519      0.607      -0.177       0.299\n",
       "Month[T.September]    -0.2567      0.117     -2.191      0.035      -0.494      -0.019\n",
       "Year                   0.1333      0.021      6.338      0.000       0.091       0.176\n",
       "==============================================================================\n",
       "Omnibus:                       13.803   Durbin-Watson:                   1.827\n",
       "Prob(Omnibus):                  0.001   Jarque-Bera (JB):               18.633\n",
       "Skew:                          -0.930   Prob(JB):                     8.99e-05\n",
       "Kurtosis:                       5.419   Cond. No.                     3.63e+06\n",
       "==============================================================================\n",
       "\n",
       "Warnings:\n",
       "[1] Standard Errors assume that the covariance matrix of the errors is correctly specified.\n",
       "[2] The condition number is large, 3.63e+06. This might indicate that there are\n",
       "strong multicollinearity or other numerical problems.\n",
       "\"\"\""
      ]
     },
     "execution_count": 243,
     "metadata": {},
     "output_type": "execute_result"
    }
   ],
   "source": [
    "model1.summary()"
   ]
  },
  {
   "cell_type": "code",
   "execution_count": 244,
   "metadata": {},
   "outputs": [
    {
     "data": {
      "text/plain": [
       "0    1.824167\n",
       "1    1.656667\n",
       "2    1.956667\n",
       "3    1.954167\n",
       "4    2.169167\n",
       "Name: Store_prediction, dtype: float64"
      ]
     },
     "execution_count": 244,
     "metadata": {},
     "output_type": "execute_result"
    }
   ],
   "source": [
    "df['Store_prediction'][:5]"
   ]
  },
  {
   "cell_type": "code",
   "execution_count": 245,
   "metadata": {},
   "outputs": [
    {
     "data": {
      "text/html": [
       "<div>\n",
       "<style scoped>\n",
       "    .dataframe tbody tr th:only-of-type {\n",
       "        vertical-align: middle;\n",
       "    }\n",
       "\n",
       "    .dataframe tbody tr th {\n",
       "        vertical-align: top;\n",
       "    }\n",
       "\n",
       "    .dataframe thead th {\n",
       "        text-align: right;\n",
       "    }\n",
       "</style>\n",
       "<table border=\"1\" class=\"dataframe\">\n",
       "  <thead>\n",
       "    <tr style=\"text-align: right;\">\n",
       "      <th></th>\n",
       "      <th>Month</th>\n",
       "      <th>Year</th>\n",
       "      <th>Store</th>\n",
       "      <th>County</th>\n",
       "      <th>Store_prediction</th>\n",
       "    </tr>\n",
       "  </thead>\n",
       "  <tbody>\n",
       "    <tr>\n",
       "      <th>56</th>\n",
       "      <td>September</td>\n",
       "      <td>2016</td>\n",
       "      <td>NaN</td>\n",
       "      <td>69.0</td>\n",
       "      <td>2.230833</td>\n",
       "    </tr>\n",
       "    <tr>\n",
       "      <th>57</th>\n",
       "      <td>October</td>\n",
       "      <td>2016</td>\n",
       "      <td>NaN</td>\n",
       "      <td>75.0</td>\n",
       "      <td>2.548333</td>\n",
       "    </tr>\n",
       "    <tr>\n",
       "      <th>58</th>\n",
       "      <td>November</td>\n",
       "      <td>2016</td>\n",
       "      <td>NaN</td>\n",
       "      <td>85.2</td>\n",
       "      <td>3.108333</td>\n",
       "    </tr>\n",
       "    <tr>\n",
       "      <th>59</th>\n",
       "      <td>December</td>\n",
       "      <td>2016</td>\n",
       "      <td>NaN</td>\n",
       "      <td>121.8</td>\n",
       "      <td>4.520833</td>\n",
       "    </tr>\n",
       "  </tbody>\n",
       "</table>\n",
       "</div>"
      ],
      "text/plain": [
       "        Month  Year  Store  County  Store_prediction\n",
       "56  September  2016    NaN    69.0          2.230833\n",
       "57    October  2016    NaN    75.0          2.548333\n",
       "58   November  2016    NaN    85.2          3.108333\n",
       "59   December  2016    NaN   121.8          4.520833"
      ]
     },
     "execution_count": 245,
     "metadata": {},
     "output_type": "execute_result"
    }
   ],
   "source": [
    "#estimated loss of regular sales (had there been no hurricane) for Carlson Department Store from Sep 2016 to Dec 2016\n",
    "df.tail(4)"
   ]
  },
  {
   "cell_type": "code",
   "execution_count": 246,
   "metadata": {},
   "outputs": [
    {
     "data": {
      "text/html": [
       "<div>\n",
       "<style scoped>\n",
       "    .dataframe tbody tr th:only-of-type {\n",
       "        vertical-align: middle;\n",
       "    }\n",
       "\n",
       "    .dataframe tbody tr th {\n",
       "        vertical-align: top;\n",
       "    }\n",
       "\n",
       "    .dataframe thead th {\n",
       "        text-align: right;\n",
       "    }\n",
       "</style>\n",
       "<table border=\"1\" class=\"dataframe\">\n",
       "  <thead>\n",
       "    <tr style=\"text-align: right;\">\n",
       "      <th></th>\n",
       "      <th>Month</th>\n",
       "      <th>Year</th>\n",
       "      <th>Store</th>\n",
       "      <th>County</th>\n",
       "      <th>Store_prediction</th>\n",
       "      <th>Date</th>\n",
       "    </tr>\n",
       "  </thead>\n",
       "  <tbody>\n",
       "    <tr>\n",
       "      <th>0</th>\n",
       "      <td>January</td>\n",
       "      <td>2012</td>\n",
       "      <td>NaN</td>\n",
       "      <td>NaN</td>\n",
       "      <td>1.824167</td>\n",
       "      <td>2012-01-01</td>\n",
       "    </tr>\n",
       "    <tr>\n",
       "      <th>1</th>\n",
       "      <td>February</td>\n",
       "      <td>2012</td>\n",
       "      <td>NaN</td>\n",
       "      <td>NaN</td>\n",
       "      <td>1.656667</td>\n",
       "      <td>2012-02-01</td>\n",
       "    </tr>\n",
       "    <tr>\n",
       "      <th>2</th>\n",
       "      <td>March</td>\n",
       "      <td>2012</td>\n",
       "      <td>NaN</td>\n",
       "      <td>NaN</td>\n",
       "      <td>1.956667</td>\n",
       "      <td>2012-03-01</td>\n",
       "    </tr>\n",
       "    <tr>\n",
       "      <th>3</th>\n",
       "      <td>April</td>\n",
       "      <td>2012</td>\n",
       "      <td>NaN</td>\n",
       "      <td>NaN</td>\n",
       "      <td>1.954167</td>\n",
       "      <td>2012-04-01</td>\n",
       "    </tr>\n",
       "    <tr>\n",
       "      <th>4</th>\n",
       "      <td>May</td>\n",
       "      <td>2012</td>\n",
       "      <td>NaN</td>\n",
       "      <td>NaN</td>\n",
       "      <td>2.169167</td>\n",
       "      <td>2012-05-01</td>\n",
       "    </tr>\n",
       "  </tbody>\n",
       "</table>\n",
       "</div>"
      ],
      "text/plain": [
       "      Month  Year  Store  County  Store_prediction       Date\n",
       "0   January  2012    NaN     NaN          1.824167 2012-01-01\n",
       "1  February  2012    NaN     NaN          1.656667 2012-02-01\n",
       "2     March  2012    NaN     NaN          1.956667 2012-03-01\n",
       "3     April  2012    NaN     NaN          1.954167 2012-04-01\n",
       "4       May  2012    NaN     NaN          2.169167 2012-05-01"
      ]
     },
     "execution_count": 246,
     "metadata": {},
     "output_type": "execute_result"
    }
   ],
   "source": [
    "df['Date'] = pd.to_datetime(df['Year'].astype(str) + df['Month'],format='%Y%B')\n",
    "df[:5]"
   ]
  },
  {
   "cell_type": "code",
   "execution_count": 247,
   "metadata": {},
   "outputs": [
    {
     "data": {
      "image/png": "[encoded data removed]",
      "text/plain": [
       "<Figure size 720x360 with 1 Axes>"
      ]
     },
     "metadata": {
      "needs_background": "light"
     },
     "output_type": "display_data"
    }
   ],
   "source": [
    "plt.figure(figsize=(10,5))\n",
    "\n",
    "plt.plot(df['Date'],df['Store'],color='b',label='Actual Store Sales')\n",
    "plt.plot(df['Date'],df['Store_prediction'],color='y',label='Estimated Store Sales')\n",
    "\n",
    "plt.legend();"
   ]
  },
  {
   "cell_type": "markdown",
   "metadata": {},
   "source": [
    "Q2. (20 pts) Split the data into two sets (set 1: 2012 to Aug 2016, and set 2: from Sep 2016 to Dec\n",
    "2016). Use data set 1 to fit a model for the county sales. Use this model to predict the county\n",
    "sales from Sep 2016 to Dec 2016. Report these four predictions."
   ]
  },
  {
   "cell_type": "code",
   "execution_count": 248,
   "metadata": {},
   "outputs": [
    {
     "data": {
      "text/html": [
       "<div>\n",
       "<style scoped>\n",
       "    .dataframe tbody tr th:only-of-type {\n",
       "        vertical-align: middle;\n",
       "    }\n",
       "\n",
       "    .dataframe tbody tr th {\n",
       "        vertical-align: top;\n",
       "    }\n",
       "\n",
       "    .dataframe thead th {\n",
       "        text-align: right;\n",
       "    }\n",
       "</style>\n",
       "<table border=\"1\" class=\"dataframe\">\n",
       "  <thead>\n",
       "    <tr style=\"text-align: right;\">\n",
       "      <th></th>\n",
       "      <th>Month</th>\n",
       "      <th>Year</th>\n",
       "      <th>Store</th>\n",
       "      <th>County</th>\n",
       "      <th>Store_prediction</th>\n",
       "      <th>Date</th>\n",
       "    </tr>\n",
       "  </thead>\n",
       "  <tbody>\n",
       "    <tr>\n",
       "      <th>0</th>\n",
       "      <td>January</td>\n",
       "      <td>2012</td>\n",
       "      <td>NaN</td>\n",
       "      <td>NaN</td>\n",
       "      <td>1.824167</td>\n",
       "      <td>2012-01-01</td>\n",
       "    </tr>\n",
       "    <tr>\n",
       "      <th>1</th>\n",
       "      <td>February</td>\n",
       "      <td>2012</td>\n",
       "      <td>NaN</td>\n",
       "      <td>NaN</td>\n",
       "      <td>1.656667</td>\n",
       "      <td>2012-02-01</td>\n",
       "    </tr>\n",
       "    <tr>\n",
       "      <th>2</th>\n",
       "      <td>March</td>\n",
       "      <td>2012</td>\n",
       "      <td>NaN</td>\n",
       "      <td>NaN</td>\n",
       "      <td>1.956667</td>\n",
       "      <td>2012-03-01</td>\n",
       "    </tr>\n",
       "    <tr>\n",
       "      <th>3</th>\n",
       "      <td>April</td>\n",
       "      <td>2012</td>\n",
       "      <td>NaN</td>\n",
       "      <td>NaN</td>\n",
       "      <td>1.954167</td>\n",
       "      <td>2012-04-01</td>\n",
       "    </tr>\n",
       "    <tr>\n",
       "      <th>4</th>\n",
       "      <td>May</td>\n",
       "      <td>2012</td>\n",
       "      <td>NaN</td>\n",
       "      <td>NaN</td>\n",
       "      <td>2.169167</td>\n",
       "      <td>2012-05-01</td>\n",
       "    </tr>\n",
       "  </tbody>\n",
       "</table>\n",
       "</div>"
      ],
      "text/plain": [
       "      Month  Year  Store  County  Store_prediction       Date\n",
       "0   January  2012    NaN     NaN          1.824167 2012-01-01\n",
       "1  February  2012    NaN     NaN          1.656667 2012-02-01\n",
       "2     March  2012    NaN     NaN          1.956667 2012-03-01\n",
       "3     April  2012    NaN     NaN          1.954167 2012-04-01\n",
       "4       May  2012    NaN     NaN          2.169167 2012-05-01"
      ]
     },
     "execution_count": 248,
     "metadata": {},
     "output_type": "execute_result"
    }
   ],
   "source": [
    "set1=df[:(df.index[df['Date']=='2016-08-01'].tolist()[0]+1)]\n",
    "set1.head()"
   ]
  },
  {
   "cell_type": "code",
   "execution_count": 249,
   "metadata": {},
   "outputs": [
    {
     "data": {
      "text/plain": [
       "Int64Index([55], dtype='int64')"
      ]
     },
     "execution_count": 249,
     "metadata": {},
     "output_type": "execute_result"
    }
   ],
   "source": [
    "df.index[df['Date']=='2016-08-01'] "
   ]
  },
  {
   "cell_type": "code",
   "execution_count": 250,
   "metadata": {},
   "outputs": [
    {
     "data": {
      "text/html": [
       "<div>\n",
       "<style scoped>\n",
       "    .dataframe tbody tr th:only-of-type {\n",
       "        vertical-align: middle;\n",
       "    }\n",
       "\n",
       "    .dataframe tbody tr th {\n",
       "        vertical-align: top;\n",
       "    }\n",
       "\n",
       "    .dataframe thead th {\n",
       "        text-align: right;\n",
       "    }\n",
       "</style>\n",
       "<table border=\"1\" class=\"dataframe\">\n",
       "  <thead>\n",
       "    <tr style=\"text-align: right;\">\n",
       "      <th></th>\n",
       "      <th>Month</th>\n",
       "      <th>Year</th>\n",
       "      <th>Store</th>\n",
       "      <th>County</th>\n",
       "      <th>Store_prediction</th>\n",
       "      <th>Date</th>\n",
       "    </tr>\n",
       "  </thead>\n",
       "  <tbody>\n",
       "    <tr>\n",
       "      <th>56</th>\n",
       "      <td>September</td>\n",
       "      <td>2016</td>\n",
       "      <td>NaN</td>\n",
       "      <td>69.0</td>\n",
       "      <td>2.230833</td>\n",
       "      <td>2016-09-01</td>\n",
       "    </tr>\n",
       "    <tr>\n",
       "      <th>57</th>\n",
       "      <td>October</td>\n",
       "      <td>2016</td>\n",
       "      <td>NaN</td>\n",
       "      <td>75.0</td>\n",
       "      <td>2.548333</td>\n",
       "      <td>2016-10-01</td>\n",
       "    </tr>\n",
       "    <tr>\n",
       "      <th>58</th>\n",
       "      <td>November</td>\n",
       "      <td>2016</td>\n",
       "      <td>NaN</td>\n",
       "      <td>85.2</td>\n",
       "      <td>3.108333</td>\n",
       "      <td>2016-11-01</td>\n",
       "    </tr>\n",
       "    <tr>\n",
       "      <th>59</th>\n",
       "      <td>December</td>\n",
       "      <td>2016</td>\n",
       "      <td>NaN</td>\n",
       "      <td>121.8</td>\n",
       "      <td>4.520833</td>\n",
       "      <td>2016-12-01</td>\n",
       "    </tr>\n",
       "  </tbody>\n",
       "</table>\n",
       "</div>"
      ],
      "text/plain": [
       "        Month  Year  Store  County  Store_prediction       Date\n",
       "56  September  2016    NaN    69.0          2.230833 2016-09-01\n",
       "57    October  2016    NaN    75.0          2.548333 2016-10-01\n",
       "58   November  2016    NaN    85.2          3.108333 2016-11-01\n",
       "59   December  2016    NaN   121.8          4.520833 2016-12-01"
      ]
     },
     "execution_count": 250,
     "metadata": {},
     "output_type": "execute_result"
    }
   ],
   "source": [
    "set2=df[(df.index[df['Date']=='2016-08-01'].tolist()[0]+1):]\n",
    "set2"
   ]
  },
  {
   "cell_type": "code",
   "execution_count": 251,
   "metadata": {},
   "outputs": [
    {
     "data": {
      "text/plain": [
       "Intercept             2282.8725\n",
       "Month[T.August]          4.2000\n",
       "Month[T.December]       50.4950\n",
       "Month[T.February]       -8.4000\n",
       "Month[T.January]       -10.5000\n",
       "Month[T.July]           -2.1000\n",
       "Month[T.June]           -1.0500\n",
       "Month[T.March]           1.8000\n",
       "Month[T.May]             2.8500\n",
       "Month[T.November]       11.0450\n",
       "Month[T.October]        -3.2050\n",
       "Month[T.September]      -5.3050\n",
       "Year                    -1.1050\n",
       "dtype: float64"
      ]
     },
     "execution_count": 251,
     "metadata": {},
     "output_type": "execute_result"
    }
   ],
   "source": [
    "model2 = smf.ols(formula='County ~ Year+Month',data = set1).fit()\n",
    "model2.params"
   ]
  },
  {
   "cell_type": "code",
   "execution_count": 252,
   "metadata": {},
   "outputs": [
    {
     "name": "stderr",
     "output_type": "stream",
     "text": [
      "<ipython-input-252-a9c64ada5e15>:2: SettingWithCopyWarning: \n",
      "A value is trying to be set on a copy of a slice from a DataFrame.\n",
      "Try using .loc[row_indexer,col_indexer] = value instead\n",
      "\n",
      "See the caveats in the documentation: https://pandas.pydata.org/pandas-docs/stable/user_guide/indexing.html#returning-a-view-versus-a-copy\n",
      "  set2['County_Predictions']=model2.predict(set2)\n"
     ]
    },
    {
     "data": {
      "text/html": [
       "<div>\n",
       "<style scoped>\n",
       "    .dataframe tbody tr th:only-of-type {\n",
       "        vertical-align: middle;\n",
       "    }\n",
       "\n",
       "    .dataframe tbody tr th {\n",
       "        vertical-align: top;\n",
       "    }\n",
       "\n",
       "    .dataframe thead th {\n",
       "        text-align: right;\n",
       "    }\n",
       "</style>\n",
       "<table border=\"1\" class=\"dataframe\">\n",
       "  <thead>\n",
       "    <tr style=\"text-align: right;\">\n",
       "      <th></th>\n",
       "      <th>Month</th>\n",
       "      <th>Year</th>\n",
       "      <th>Store</th>\n",
       "      <th>County</th>\n",
       "      <th>Store_prediction</th>\n",
       "      <th>Date</th>\n",
       "      <th>County_Predictions</th>\n",
       "    </tr>\n",
       "  </thead>\n",
       "  <tbody>\n",
       "    <tr>\n",
       "      <th>56</th>\n",
       "      <td>September</td>\n",
       "      <td>2016</td>\n",
       "      <td>NaN</td>\n",
       "      <td>69.0</td>\n",
       "      <td>2.230833</td>\n",
       "      <td>2016-09-01</td>\n",
       "      <td>49.8875</td>\n",
       "    </tr>\n",
       "    <tr>\n",
       "      <th>57</th>\n",
       "      <td>October</td>\n",
       "      <td>2016</td>\n",
       "      <td>NaN</td>\n",
       "      <td>75.0</td>\n",
       "      <td>2.548333</td>\n",
       "      <td>2016-10-01</td>\n",
       "      <td>51.9875</td>\n",
       "    </tr>\n",
       "    <tr>\n",
       "      <th>58</th>\n",
       "      <td>November</td>\n",
       "      <td>2016</td>\n",
       "      <td>NaN</td>\n",
       "      <td>85.2</td>\n",
       "      <td>3.108333</td>\n",
       "      <td>2016-11-01</td>\n",
       "      <td>66.2375</td>\n",
       "    </tr>\n",
       "    <tr>\n",
       "      <th>59</th>\n",
       "      <td>December</td>\n",
       "      <td>2016</td>\n",
       "      <td>NaN</td>\n",
       "      <td>121.8</td>\n",
       "      <td>4.520833</td>\n",
       "      <td>2016-12-01</td>\n",
       "      <td>105.6875</td>\n",
       "    </tr>\n",
       "  </tbody>\n",
       "</table>\n",
       "</div>"
      ],
      "text/plain": [
       "        Month  Year  Store  County  Store_prediction       Date  \\\n",
       "56  September  2016    NaN    69.0          2.230833 2016-09-01   \n",
       "57    October  2016    NaN    75.0          2.548333 2016-10-01   \n",
       "58   November  2016    NaN    85.2          3.108333 2016-11-01   \n",
       "59   December  2016    NaN   121.8          4.520833 2016-12-01   \n",
       "\n",
       "    County_Predictions  \n",
       "56             49.8875  \n",
       "57             51.9875  \n",
       "58             66.2375  \n",
       "59            105.6875  "
      ]
     },
     "execution_count": 252,
     "metadata": {},
     "output_type": "execute_result"
    }
   ],
   "source": [
    "#predictions for the county sales from Sep 2016 to Dec 2016\n",
    "set2['County_Predictions']=model2.predict(set2)\n",
    "set2"
   ]
  },
  {
   "cell_type": "markdown",
   "metadata": {},
   "source": [
    "Q3. (20 pts) Compare your monthly predictions from question 2 with the actual county sales from\n",
    "Sep 2016 to Dec 2016. Find monthly ratios of actual vs. predicted county sales. Ratios larger\n",
    "than 1.0 indicate that actual sales were larger than regular sales, most likely, due to hurricane\n",
    "properties damages."
   ]
  },
  {
   "cell_type": "code",
   "execution_count": 253,
   "metadata": {},
   "outputs": [
    {
     "data": {
      "text/plain": [
       "56"
      ]
     },
     "execution_count": 253,
     "metadata": {},
     "output_type": "execute_result"
    }
   ],
   "source": [
    "i=df.index[df['Date']=='2016-08-01'].tolist()[0]+1\n",
    "i"
   ]
  },
  {
   "cell_type": "code",
   "execution_count": 266,
   "metadata": {},
   "outputs": [
    {
     "data": {
      "text/plain": [
       "<matplotlib.legend.Legend at 0x21c18d2e2e0>"
      ]
     },
     "execution_count": 266,
     "metadata": {},
     "output_type": "execute_result"
    },
    {
     "data": {
      "image/png": "[encoded data removed]",
      "text/plain": [
       "<Figure size 720x360 with 1 Axes>"
      ]
     },
     "metadata": {
      "needs_background": "light"
     },
     "output_type": "display_data"
    }
   ],
   "source": [
    "#comparing actual vs predicted county sales from September 2016 to December 2016\n",
    "plt.figure(figsize=(10,5))\n",
    "plt.plot(df['Date'][i:],df['County'][i:],color='b',label='Actual County Sales')\n",
    "plt.plot(df['Date'][i:],set2['County_Predictions'],color='y',label='Estimated County Sales')\n",
    "plt.grid()\n",
    "plt.legend()"
   ]
  },
  {
   "cell_type": "code",
   "execution_count": 255,
   "metadata": {},
   "outputs": [
    {
     "data": {
      "text/plain": [
       "56    1.383112\n",
       "57    1.442654\n",
       "58    1.286280\n",
       "59    1.152454\n",
       "dtype: float64"
      ]
     },
     "execution_count": 255,
     "metadata": {},
     "output_type": "execute_result"
    }
   ],
   "source": [
    "#Ratios of actual vs predicted county sales from September 2016 to December 2016\n",
    "Ratios=df['County']/set2['County_Predictions']\n",
    "Ratios.tail(4)"
   ]
  },
  {
   "cell_type": "code",
   "execution_count": 256,
   "metadata": {},
   "outputs": [
    {
     "data": {
      "text/html": [
       "<div>\n",
       "<style scoped>\n",
       "    .dataframe tbody tr th:only-of-type {\n",
       "        vertical-align: middle;\n",
       "    }\n",
       "\n",
       "    .dataframe tbody tr th {\n",
       "        vertical-align: top;\n",
       "    }\n",
       "\n",
       "    .dataframe thead th {\n",
       "        text-align: right;\n",
       "    }\n",
       "</style>\n",
       "<table border=\"1\" class=\"dataframe\">\n",
       "  <thead>\n",
       "    <tr style=\"text-align: right;\">\n",
       "      <th></th>\n",
       "      <th>Month</th>\n",
       "      <th>Year</th>\n",
       "      <th>Store</th>\n",
       "      <th>County</th>\n",
       "      <th>Store_prediction</th>\n",
       "      <th>Date</th>\n",
       "      <th>County_Predictions</th>\n",
       "    </tr>\n",
       "  </thead>\n",
       "  <tbody>\n",
       "    <tr>\n",
       "      <th>0</th>\n",
       "      <td>January</td>\n",
       "      <td>2012</td>\n",
       "      <td>NaN</td>\n",
       "      <td>NaN</td>\n",
       "      <td>1.824167</td>\n",
       "      <td>2012-01-01</td>\n",
       "      <td>49.1125</td>\n",
       "    </tr>\n",
       "    <tr>\n",
       "      <th>1</th>\n",
       "      <td>February</td>\n",
       "      <td>2012</td>\n",
       "      <td>NaN</td>\n",
       "      <td>NaN</td>\n",
       "      <td>1.656667</td>\n",
       "      <td>2012-02-01</td>\n",
       "      <td>51.2125</td>\n",
       "    </tr>\n",
       "    <tr>\n",
       "      <th>2</th>\n",
       "      <td>March</td>\n",
       "      <td>2012</td>\n",
       "      <td>NaN</td>\n",
       "      <td>NaN</td>\n",
       "      <td>1.956667</td>\n",
       "      <td>2012-03-01</td>\n",
       "      <td>61.4125</td>\n",
       "    </tr>\n",
       "    <tr>\n",
       "      <th>3</th>\n",
       "      <td>April</td>\n",
       "      <td>2012</td>\n",
       "      <td>NaN</td>\n",
       "      <td>NaN</td>\n",
       "      <td>1.954167</td>\n",
       "      <td>2012-04-01</td>\n",
       "      <td>59.6125</td>\n",
       "    </tr>\n",
       "    <tr>\n",
       "      <th>4</th>\n",
       "      <td>May</td>\n",
       "      <td>2012</td>\n",
       "      <td>NaN</td>\n",
       "      <td>NaN</td>\n",
       "      <td>2.169167</td>\n",
       "      <td>2012-05-01</td>\n",
       "      <td>62.4625</td>\n",
       "    </tr>\n",
       "  </tbody>\n",
       "</table>\n",
       "</div>"
      ],
      "text/plain": [
       "      Month  Year  Store  County  Store_prediction       Date  \\\n",
       "0   January  2012    NaN     NaN          1.824167 2012-01-01   \n",
       "1  February  2012    NaN     NaN          1.656667 2012-02-01   \n",
       "2     March  2012    NaN     NaN          1.956667 2012-03-01   \n",
       "3     April  2012    NaN     NaN          1.954167 2012-04-01   \n",
       "4       May  2012    NaN     NaN          2.169167 2012-05-01   \n",
       "\n",
       "   County_Predictions  \n",
       "0             49.1125  \n",
       "1             51.2125  \n",
       "2             61.4125  \n",
       "3             59.6125  \n",
       "4             62.4625  "
      ]
     },
     "execution_count": 256,
     "metadata": {},
     "output_type": "execute_result"
    }
   ],
   "source": [
    "#Ratios of actual vs predicted county sales for all months\n",
    "df['County_Predictions']=model2.predict(df)\n",
    "df.head()"
   ]
  },
  {
   "cell_type": "markdown",
   "metadata": {},
   "source": [
    "Q4. (10 pts) Multiply these ratios by the extimated store sales from question 1. These quantities\n",
    "are the monthly total sales (regular and hurricane induced) lost by Carlson Store. Report them\n",
    "along with their sum. It is the amount that Carlson can demand from the insurance company"
   ]
  },
  {
   "cell_type": "code",
   "execution_count": 258,
   "metadata": {},
   "outputs": [
    {
     "data": {
      "text/plain": [
       "56    3.085492\n",
       "57    3.676365\n",
       "58    3.998188\n",
       "59    5.210053\n",
       "dtype: float64"
      ]
     },
     "execution_count": 258,
     "metadata": {},
     "output_type": "execute_result"
    }
   ],
   "source": [
    "Lost_Sales=Ratios*df['Store_prediction']\n",
    "Lost_Sales.tail(4)"
   ]
  },
  {
   "cell_type": "code",
   "execution_count": 259,
   "metadata": {},
   "outputs": [
    {
     "data": {
      "text/plain": [
       "15.97009842887271"
      ]
     },
     "execution_count": 259,
     "metadata": {},
     "output_type": "execute_result"
    }
   ],
   "source": [
    "Compensation=sum(Lost_Sales.tail(4))\n",
    "Compensation"
   ]
  },
  {
   "cell_type": "markdown",
   "metadata": {},
   "source": [
    "The amount that Carlson can demand from the insurance company is 15.97 million dollars."
   ]
  },
  {
   "cell_type": "markdown",
   "metadata": {},
   "source": [
    "Q5. (20 pts) Use data set 1 to compute the fraction of Carlson monthly sales to the county-wide\n",
    "department stores monthly sales. This is Carlson’s market share. Build a regression model to\n",
    "predict Carlson’s market share from Sep 2016 to Dec 2016."
   ]
  },
  {
   "cell_type": "code",
   "execution_count": 260,
   "metadata": {},
   "outputs": [
    {
     "data": {
      "text/html": [
       "<div>\n",
       "<style scoped>\n",
       "    .dataframe tbody tr th:only-of-type {\n",
       "        vertical-align: middle;\n",
       "    }\n",
       "\n",
       "    .dataframe tbody tr th {\n",
       "        vertical-align: top;\n",
       "    }\n",
       "\n",
       "    .dataframe thead th {\n",
       "        text-align: right;\n",
       "    }\n",
       "</style>\n",
       "<table border=\"1\" class=\"dataframe\">\n",
       "  <thead>\n",
       "    <tr style=\"text-align: right;\">\n",
       "      <th></th>\n",
       "      <th>Month</th>\n",
       "      <th>Year</th>\n",
       "      <th>Store</th>\n",
       "      <th>County</th>\n",
       "      <th>Store_prediction</th>\n",
       "      <th>Date</th>\n",
       "      <th>County_Predictions</th>\n",
       "      <th>Share</th>\n",
       "    </tr>\n",
       "  </thead>\n",
       "  <tbody>\n",
       "    <tr>\n",
       "      <th>8</th>\n",
       "      <td>September</td>\n",
       "      <td>2012</td>\n",
       "      <td>1.71</td>\n",
       "      <td>55.8</td>\n",
       "      <td>1.6975</td>\n",
       "      <td>2012-09-01</td>\n",
       "      <td>54.3075</td>\n",
       "      <td>0.030645</td>\n",
       "    </tr>\n",
       "    <tr>\n",
       "      <th>9</th>\n",
       "      <td>October</td>\n",
       "      <td>2012</td>\n",
       "      <td>1.90</td>\n",
       "      <td>56.4</td>\n",
       "      <td>2.0150</td>\n",
       "      <td>2012-10-01</td>\n",
       "      <td>56.4075</td>\n",
       "      <td>0.033688</td>\n",
       "    </tr>\n",
       "    <tr>\n",
       "      <th>10</th>\n",
       "      <td>November</td>\n",
       "      <td>2012</td>\n",
       "      <td>2.74</td>\n",
       "      <td>71.4</td>\n",
       "      <td>2.5750</td>\n",
       "      <td>2012-11-01</td>\n",
       "      <td>70.6575</td>\n",
       "      <td>0.038375</td>\n",
       "    </tr>\n",
       "    <tr>\n",
       "      <th>11</th>\n",
       "      <td>December</td>\n",
       "      <td>2012</td>\n",
       "      <td>4.20</td>\n",
       "      <td>117.6</td>\n",
       "      <td>3.9875</td>\n",
       "      <td>2012-12-01</td>\n",
       "      <td>110.1075</td>\n",
       "      <td>0.035714</td>\n",
       "    </tr>\n",
       "  </tbody>\n",
       "</table>\n",
       "</div>"
      ],
      "text/plain": [
       "        Month  Year  Store  County  Store_prediction       Date  \\\n",
       "8   September  2012   1.71    55.8            1.6975 2012-09-01   \n",
       "9     October  2012   1.90    56.4            2.0150 2012-10-01   \n",
       "10   November  2012   2.74    71.4            2.5750 2012-11-01   \n",
       "11   December  2012   4.20   117.6            3.9875 2012-12-01   \n",
       "\n",
       "    County_Predictions     Share  \n",
       "8              54.3075  0.030645  \n",
       "9              56.4075  0.033688  \n",
       "10             70.6575  0.038375  \n",
       "11            110.1075  0.035714  "
      ]
     },
     "execution_count": 260,
     "metadata": {},
     "output_type": "execute_result"
    }
   ],
   "source": [
    "df['Share']=df['Store']/df['County']\n",
    "df[8:12]"
   ]
  },
  {
   "cell_type": "code",
   "execution_count": 261,
   "metadata": {},
   "outputs": [
    {
     "data": {
      "text/html": [
       "<table class=\"simpletable\">\n",
       "<caption>OLS Regression Results</caption>\n",
       "<tr>\n",
       "  <th>Dep. Variable:</th>          <td>Share</td>      <th>  R-squared:         </th> <td>   0.654</td>\n",
       "</tr>\n",
       "<tr>\n",
       "  <th>Model:</th>                   <td>OLS</td>       <th>  Adj. R-squared:    </th> <td>   0.536</td>\n",
       "</tr>\n",
       "<tr>\n",
       "  <th>Method:</th>             <td>Least Squares</td>  <th>  F-statistic:       </th> <td>   5.517</td>\n",
       "</tr>\n",
       "<tr>\n",
       "  <th>Date:</th>             <td>Thu, 30 Sep 2021</td> <th>  Prob (F-statistic):</th> <td>3.53e-05</td>\n",
       "</tr>\n",
       "<tr>\n",
       "  <th>Time:</th>                 <td>16:33:29</td>     <th>  Log-Likelihood:    </th> <td>  210.85</td>\n",
       "</tr>\n",
       "<tr>\n",
       "  <th>No. Observations:</th>      <td>    48</td>      <th>  AIC:               </th> <td>  -395.7</td>\n",
       "</tr>\n",
       "<tr>\n",
       "  <th>Df Residuals:</th>          <td>    35</td>      <th>  BIC:               </th> <td>  -371.4</td>\n",
       "</tr>\n",
       "<tr>\n",
       "  <th>Df Model:</th>              <td>    12</td>      <th>                     </th>     <td> </td>   \n",
       "</tr>\n",
       "<tr>\n",
       "  <th>Covariance Type:</th>      <td>nonrobust</td>    <th>                     </th>     <td> </td>   \n",
       "</tr>\n",
       "</table>\n",
       "<table class=\"simpletable\">\n",
       "<tr>\n",
       "           <td></td>             <th>coef</th>     <th>std err</th>      <th>t</th>      <th>P>|t|</th>  <th>[0.025</th>    <th>0.975]</th>  \n",
       "</tr>\n",
       "<tr>\n",
       "  <th>Intercept</th>          <td>   -6.0191</td> <td>    0.911</td> <td>   -6.605</td> <td> 0.000</td> <td>   -7.869</td> <td>   -4.169</td>\n",
       "</tr>\n",
       "<tr>\n",
       "  <th>Month[T.August]</th>    <td>   -0.0020</td> <td>    0.002</td> <td>   -0.793</td> <td> 0.433</td> <td>   -0.007</td> <td>    0.003</td>\n",
       "</tr>\n",
       "<tr>\n",
       "  <th>Month[T.December]</th>  <td>    0.0015</td> <td>    0.003</td> <td>    0.586</td> <td> 0.562</td> <td>   -0.004</td> <td>    0.007</td>\n",
       "</tr>\n",
       "<tr>\n",
       "  <th>Month[T.February]</th>  <td>    0.0007</td> <td>    0.002</td> <td>    0.288</td> <td> 0.775</td> <td>   -0.004</td> <td>    0.006</td>\n",
       "</tr>\n",
       "<tr>\n",
       "  <th>Month[T.January]</th>   <td>    0.0063</td> <td>    0.002</td> <td>    2.528</td> <td> 0.016</td> <td>    0.001</td> <td>    0.011</td>\n",
       "</tr>\n",
       "<tr>\n",
       "  <th>Month[T.July]</th>      <td>    0.0014</td> <td>    0.002</td> <td>    0.552</td> <td> 0.585</td> <td>   -0.004</td> <td>    0.006</td>\n",
       "</tr>\n",
       "<tr>\n",
       "  <th>Month[T.June]</th>      <td>    0.0007</td> <td>    0.002</td> <td>    0.265</td> <td> 0.793</td> <td>   -0.004</td> <td>    0.006</td>\n",
       "</tr>\n",
       "<tr>\n",
       "  <th>Month[T.March]</th>     <td>   -0.0012</td> <td>    0.002</td> <td>   -0.484</td> <td> 0.631</td> <td>   -0.006</td> <td>    0.004</td>\n",
       "</tr>\n",
       "<tr>\n",
       "  <th>Month[T.May]</th>       <td>    0.0017</td> <td>    0.002</td> <td>    0.675</td> <td> 0.504</td> <td>   -0.003</td> <td>    0.007</td>\n",
       "</tr>\n",
       "<tr>\n",
       "  <th>Month[T.November]</th>  <td>    0.0030</td> <td>    0.003</td> <td>    1.189</td> <td> 0.242</td> <td>   -0.002</td> <td>    0.008</td>\n",
       "</tr>\n",
       "<tr>\n",
       "  <th>Month[T.October]</th>   <td>    0.0032</td> <td>    0.003</td> <td>    1.262</td> <td> 0.215</td> <td>   -0.002</td> <td>    0.008</td>\n",
       "</tr>\n",
       "<tr>\n",
       "  <th>Month[T.September]</th> <td>   -0.0009</td> <td>    0.003</td> <td>   -0.362</td> <td> 0.719</td> <td>   -0.006</td> <td>    0.004</td>\n",
       "</tr>\n",
       "<tr>\n",
       "  <th>Year</th>               <td>    0.0030</td> <td>    0.000</td> <td>    6.649</td> <td> 0.000</td> <td>    0.002</td> <td>    0.004</td>\n",
       "</tr>\n",
       "</table>\n",
       "<table class=\"simpletable\">\n",
       "<tr>\n",
       "  <th>Omnibus:</th>       <td>17.462</td> <th>  Durbin-Watson:     </th> <td>   1.608</td>\n",
       "</tr>\n",
       "<tr>\n",
       "  <th>Prob(Omnibus):</th> <td> 0.000</td> <th>  Jarque-Bera (JB):  </th> <td>  24.831</td>\n",
       "</tr>\n",
       "<tr>\n",
       "  <th>Skew:</th>          <td>-1.174</td> <th>  Prob(JB):          </th> <td>4.06e-06</td>\n",
       "</tr>\n",
       "<tr>\n",
       "  <th>Kurtosis:</th>      <td> 5.627</td> <th>  Cond. No.          </th> <td>3.63e+06</td>\n",
       "</tr>\n",
       "</table><br/><br/>Warnings:<br/>[1] Standard Errors assume that the covariance matrix of the errors is correctly specified.<br/>[2] The condition number is large, 3.63e+06. This might indicate that there are<br/>strong multicollinearity or other numerical problems."
      ],
      "text/plain": [
       "<class 'statsmodels.iolib.summary.Summary'>\n",
       "\"\"\"\n",
       "                            OLS Regression Results                            \n",
       "==============================================================================\n",
       "Dep. Variable:                  Share   R-squared:                       0.654\n",
       "Model:                            OLS   Adj. R-squared:                  0.536\n",
       "Method:                 Least Squares   F-statistic:                     5.517\n",
       "Date:                Thu, 30 Sep 2021   Prob (F-statistic):           3.53e-05\n",
       "Time:                        16:33:29   Log-Likelihood:                 210.85\n",
       "No. Observations:                  48   AIC:                            -395.7\n",
       "Df Residuals:                      35   BIC:                            -371.4\n",
       "Df Model:                          12                                         \n",
       "Covariance Type:            nonrobust                                         \n",
       "======================================================================================\n",
       "                         coef    std err          t      P>|t|      [0.025      0.975]\n",
       "--------------------------------------------------------------------------------------\n",
       "Intercept             -6.0191      0.911     -6.605      0.000      -7.869      -4.169\n",
       "Month[T.August]       -0.0020      0.002     -0.793      0.433      -0.007       0.003\n",
       "Month[T.December]      0.0015      0.003      0.586      0.562      -0.004       0.007\n",
       "Month[T.February]      0.0007      0.002      0.288      0.775      -0.004       0.006\n",
       "Month[T.January]       0.0063      0.002      2.528      0.016       0.001       0.011\n",
       "Month[T.July]          0.0014      0.002      0.552      0.585      -0.004       0.006\n",
       "Month[T.June]          0.0007      0.002      0.265      0.793      -0.004       0.006\n",
       "Month[T.March]        -0.0012      0.002     -0.484      0.631      -0.006       0.004\n",
       "Month[T.May]           0.0017      0.002      0.675      0.504      -0.003       0.007\n",
       "Month[T.November]      0.0030      0.003      1.189      0.242      -0.002       0.008\n",
       "Month[T.October]       0.0032      0.003      1.262      0.215      -0.002       0.008\n",
       "Month[T.September]    -0.0009      0.003     -0.362      0.719      -0.006       0.004\n",
       "Year                   0.0030      0.000      6.649      0.000       0.002       0.004\n",
       "==============================================================================\n",
       "Omnibus:                       17.462   Durbin-Watson:                   1.608\n",
       "Prob(Omnibus):                  0.000   Jarque-Bera (JB):               24.831\n",
       "Skew:                          -1.174   Prob(JB):                     4.06e-06\n",
       "Kurtosis:                       5.627   Cond. No.                     3.63e+06\n",
       "==============================================================================\n",
       "\n",
       "Warnings:\n",
       "[1] Standard Errors assume that the covariance matrix of the errors is correctly specified.\n",
       "[2] The condition number is large, 3.63e+06. This might indicate that there are\n",
       "strong multicollinearity or other numerical problems.\n",
       "\"\"\""
      ]
     },
     "execution_count": 261,
     "metadata": {},
     "output_type": "execute_result"
    }
   ],
   "source": [
    "model3=smf.ols(formula='Share~Month+Year',data=df).fit()\n",
    "model3.summary()"
   ]
  },
  {
   "cell_type": "code",
   "execution_count": 262,
   "metadata": {},
   "outputs": [
    {
     "data": {
      "text/html": [
       "<div>\n",
       "<style scoped>\n",
       "    .dataframe tbody tr th:only-of-type {\n",
       "        vertical-align: middle;\n",
       "    }\n",
       "\n",
       "    .dataframe tbody tr th {\n",
       "        vertical-align: top;\n",
       "    }\n",
       "\n",
       "    .dataframe thead th {\n",
       "        text-align: right;\n",
       "    }\n",
       "</style>\n",
       "<table border=\"1\" class=\"dataframe\">\n",
       "  <thead>\n",
       "    <tr style=\"text-align: right;\">\n",
       "      <th></th>\n",
       "      <th>Month</th>\n",
       "      <th>Year</th>\n",
       "      <th>Store</th>\n",
       "      <th>County</th>\n",
       "      <th>Store_prediction</th>\n",
       "      <th>Date</th>\n",
       "      <th>County_Predictions</th>\n",
       "      <th>Share</th>\n",
       "      <th>Share_Prediction</th>\n",
       "    </tr>\n",
       "  </thead>\n",
       "  <tbody>\n",
       "    <tr>\n",
       "      <th>56</th>\n",
       "      <td>September</td>\n",
       "      <td>2016</td>\n",
       "      <td>NaN</td>\n",
       "      <td>69.0</td>\n",
       "      <td>2.230833</td>\n",
       "      <td>2016-09-01</td>\n",
       "      <td>49.8875</td>\n",
       "      <td>NaN</td>\n",
       "      <td>0.043939</td>\n",
       "    </tr>\n",
       "    <tr>\n",
       "      <th>57</th>\n",
       "      <td>October</td>\n",
       "      <td>2016</td>\n",
       "      <td>NaN</td>\n",
       "      <td>75.0</td>\n",
       "      <td>2.548333</td>\n",
       "      <td>2016-10-01</td>\n",
       "      <td>51.9875</td>\n",
       "      <td>NaN</td>\n",
       "      <td>0.048029</td>\n",
       "    </tr>\n",
       "    <tr>\n",
       "      <th>58</th>\n",
       "      <td>November</td>\n",
       "      <td>2016</td>\n",
       "      <td>NaN</td>\n",
       "      <td>85.2</td>\n",
       "      <td>3.108333</td>\n",
       "      <td>2016-11-01</td>\n",
       "      <td>66.2375</td>\n",
       "      <td>NaN</td>\n",
       "      <td>0.047847</td>\n",
       "    </tr>\n",
       "    <tr>\n",
       "      <th>59</th>\n",
       "      <td>December</td>\n",
       "      <td>2016</td>\n",
       "      <td>NaN</td>\n",
       "      <td>121.8</td>\n",
       "      <td>4.520833</td>\n",
       "      <td>2016-12-01</td>\n",
       "      <td>105.6875</td>\n",
       "      <td>NaN</td>\n",
       "      <td>0.046326</td>\n",
       "    </tr>\n",
       "  </tbody>\n",
       "</table>\n",
       "</div>"
      ],
      "text/plain": [
       "        Month  Year  Store  County  Store_prediction       Date  \\\n",
       "56  September  2016    NaN    69.0          2.230833 2016-09-01   \n",
       "57    October  2016    NaN    75.0          2.548333 2016-10-01   \n",
       "58   November  2016    NaN    85.2          3.108333 2016-11-01   \n",
       "59   December  2016    NaN   121.8          4.520833 2016-12-01   \n",
       "\n",
       "    County_Predictions  Share  Share_Prediction  \n",
       "56             49.8875    NaN          0.043939  \n",
       "57             51.9875    NaN          0.048029  \n",
       "58             66.2375    NaN          0.047847  \n",
       "59            105.6875    NaN          0.046326  "
      ]
     },
     "execution_count": 262,
     "metadata": {},
     "output_type": "execute_result"
    }
   ],
   "source": [
    "df['Share_Prediction']=model3.predict(df)\n",
    "df[i:]"
   ]
  },
  {
   "cell_type": "markdown",
   "metadata": {},
   "source": [
    "Q6. (10 pts) Multiply Carlson’s predicted market shares by the actual county department store sales\n",
    "month by month. These are the monthly total sales (regular and hurricane induced) lost by\n",
    "Carlson Store. Report them along with their sum. It is the amount that Carlson can demand\n",
    "from the insurance company."
   ]
  },
  {
   "cell_type": "code",
   "execution_count": 263,
   "metadata": {},
   "outputs": [
    {
     "data": {
      "text/plain": [
       "56    3.031775\n",
       "57    3.602180\n",
       "58    4.076529\n",
       "59    5.642558\n",
       "dtype: float64"
      ]
     },
     "execution_count": 263,
     "metadata": {},
     "output_type": "execute_result"
    }
   ],
   "source": [
    "Monthly_Total_Shares=df['Share_Prediction'][i:]*df['County'][i:]\n",
    "Monthly_Total_Shares"
   ]
  },
  {
   "cell_type": "code",
   "execution_count": 264,
   "metadata": {},
   "outputs": [
    {
     "data": {
      "text/plain": [
       "16.353041384069638"
      ]
     },
     "execution_count": 264,
     "metadata": {},
     "output_type": "execute_result"
    }
   ],
   "source": [
    "sum(Monthly_Total_Shares)"
   ]
  },
  {
   "cell_type": "markdown",
   "metadata": {},
   "source": [
    "The amount that Carlson can demand from the insurance company is 16.35 million dollars."
   ]
  },
  {
   "cell_type": "code",
   "execution_count": null,
   "metadata": {},
   "outputs": [],
   "source": []
  }
 ],
 "metadata": {
  "kernelspec": {
   "display_name": "Python 3",
   "language": "python",
   "name": "python3"
  },
  "language_info": {
   "codemirror_mode": {
    "name": "ipython",
    "version": 3
   },
   "file_extension": ".py",
   "mimetype": "text/x-python",
   "name": "python",
   "nbconvert_exporter": "python",
   "pygments_lexer": "ipython3",
   "version": "3.8.3"
  }
 },
 "nbformat": 4,
 "nbformat_minor": 4
}
